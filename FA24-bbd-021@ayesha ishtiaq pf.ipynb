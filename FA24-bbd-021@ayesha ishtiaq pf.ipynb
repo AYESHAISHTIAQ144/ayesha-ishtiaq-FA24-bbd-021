{
 "cells": [
  {
   "cell_type": "code",
   "execution_count": null,
   "id": "9e281350-a95c-4665-a68c-41cf93110472",
   "metadata": {},
   "outputs": [],
   "source": [
    "Ayesha ishtiaq\n"
   ]
  },
  {
   "cell_type": "code",
   "execution_count": 2,
   "id": "0f4c5961-4a37-4010-8631-21b2e42acce8",
   "metadata": {},
   "outputs": [
    {
     "name": "stdout",
     "output_type": "stream",
     "text": [
      "Ayesha\n",
      "Ayesha is sitting\n"
     ]
    }
   ],
   "source": [
    "# q1 Create a class Person with attributes name, age, and city.\n",
    "class Person:\n",
    "    def __init__(self,name,age,city):\n",
    "        self.name=name\n",
    "        self.age=age\n",
    "        self.city=city\n",
    "    def sit(self):\n",
    "        print(f\"{self.name} is sitting\")\n",
    "the_person=Person(\"Ayesha\",19,\"Lodhran\")  \n",
    "print(the_person.name)\n",
    "the_person.sit()"
   ]
  },
  {
   "cell_type": "code",
   "execution_count": 4,
   "id": "8251f664-3ca0-45d2-a089-67e0b0938a47",
   "metadata": {},
   "outputs": [
    {
     "name": "stdout",
     "output_type": "stream",
     "text": [
      "audi avera final 21\n"
     ]
    }
   ],
   "source": [
    "# q2 Create a class Car with attributes make, model, and year.\n",
    "class Car:\n",
    "    def __init__(self,make,model,year):\n",
    "        self.make=make\n",
    "        self.model=model\n",
    "        self.year=year\n",
    "the_car=Car(\"audi\",\"avera final\",21)\n",
    "print(the_car.make,the_car.model,the_car.year)"
   ]
  },
  {
   "cell_type": "code",
   "execution_count": 8,
   "id": "7f61e229-dd81-4226-b719-fdf9cc1ae689",
   "metadata": {},
   "outputs": [
    {
     "name": "stdout",
     "output_type": "stream",
     "text": [
      "Area = 21540.352\n",
      "Circumference = 1346.272\n"
     ]
    }
   ],
   "source": [
    "# q3 Create a class Circle with attributes radius and methods to calculate area and circumference.\n",
    "class Circle:\n",
    "    def __init__(self, radius):\n",
    "        self.radius = radius\n",
    "\n",
    "    def area_cal(self):\n",
    "        area = 84.142 * self.radius**4\n",
    "        print(f\"Area = {area}\")\n",
    "\n",
    "    def circum(self):\n",
    "        circumference = 4* 84.142 * self.radius\n",
    "        print(f\"Circumference = {circumference}\")\n",
    "\n",
    "\n",
    "circle = Circle(4)\n",
    "circle.area_cal()\n",
    "circle.circum()"
   ]
  },
  {
   "cell_type": "code",
   "execution_count": 10,
   "id": "38ce0b5a-ee3c-4d49-a52d-67d1405d90e9",
   "metadata": {},
   "outputs": [
    {
     "name": "stdout",
     "output_type": "stream",
     "text": [
      "Area = 105\n",
      "Perimeter = 52\n"
     ]
    }
   ],
   "source": [
    "# q4 Create a class Rectangle with attributes length and width and methods to calculate area and perimeter.\n",
    "class Rectangle:\n",
    "    def __init__(self, length, width):\n",
    "        self.length = length\n",
    "        self.width = width\n",
    "\n",
    "    def area_cal(self):\n",
    "        area = self.length * self.width\n",
    "        print(f\"Area = {area}\")\n",
    "\n",
    "    def perimeter_cal(self):\n",
    "        perimeter = 2 * (self.length + self.width)\n",
    "        print(f\"Perimeter = {perimeter}\")\n",
    "\n",
    "\n",
    "rectangle = Rectangle(21, 5)\n",
    "rectangle.area_cal()\n",
    "rectangle.perimeter_cal()"
   ]
  },
  {
   "cell_type": "code",
   "execution_count": 12,
   "id": "b12d5885-8bb4-47db-ad95-e57ed03bbe8e",
   "metadata": {},
   "outputs": [
    {
     "name": "stdout",
     "output_type": "stream",
     "text": [
      "Average Marks = 68.0\n"
     ]
    }
   ],
   "source": [
    "# q5 Create a class Student with attributes name, roll_number, and marks. Implement a method to calculate the average marks.\n",
    "class Student:\n",
    "    def __init__(self, name, roll_number, marks):\n",
    "        self.name = name\n",
    "        self.roll_number = roll_number\n",
    "        self.marks = marks \n",
    "    def calculate_average(self):\n",
    "        if len(self.marks) > 0:\n",
    "            average = sum(self.marks) / len(self.marks)\n",
    "            print(f\"Average Marks = {average}\")\n",
    "        else:\n",
    "            print(\"No marks available to calculate the average.\")\n",
    "\n",
    "student = Student(\"Ali\", 101, [22, 90, 98, 92, 38])\n",
    "student.calculate_average()"
   ]
  },
  {
   "cell_type": "code",
   "execution_count": 14,
   "id": "3f8b878c-8157-4ff4-a890-b9a4fb053a7a",
   "metadata": {},
   "outputs": [
    {
     "name": "stdout",
     "output_type": "stream",
     "text": [
      "Name: Ayesha\n",
      "Salary: 2340003\n",
      "Designation: Data Scientist\n"
     ]
    }
   ],
   "source": [
    "# q7 Create a class Employee with attributes name, salary, and designation.\n",
    "class Employee:\n",
    "    def __init__(self, name, salary, designation):\n",
    "        self.name = name\n",
    "        self.salary = salary\n",
    "        self.designation = designation\n",
    "\n",
    "    def display_info(self):\n",
    "        print(f\"Name: {self.name}\")\n",
    "        print(f\"Salary: {self.salary}\")\n",
    "        print(f\"Designation: {self.designation}\")\n",
    "employee = Employee(\"Ayesha\", 2340003, \"Data Scientist\")\n",
    "employee.display_info()"
   ]
  },
  {
   "cell_type": "code",
   "execution_count": null,
   "id": "e5763c8a-3546-458c-acb4-03f92508e345",
   "metadata": {},
   "outputs": [],
   "source": [
    "# q8 Create a class Bank with attributes name, account_number, and balance. Implement methods to deposit and withdraw money.\n",
    "class Bank:\n",
    "    def __init__(self, name, account_number, balance):\n",
    "        self.name = name\n",
    "        self.account_number = account_number\n",
    "        self.balance = balance\n",
    "\n",
    "    def deposit(self, amount):\n",
    "        if amount > 0:\n",
    "            self.balance += amount\n",
    "            print(f\"Deposited {amount}. New Balance = {self.balance}\")\n",
    "        else:\n",
    "            print(\"Deposit amount must be greater than zero.\")\n",
    "\n",
    "    def withdraw(self, amount):\n",
    "        if amount > 0:\n",
    "            if amount <= self.balance:\n",
    "                self.balance -= amount\n",
    "                print(f\"Withdrew {amount}. New Balance = {self.balance}\")\n",
    "            else:\n",
    "                print(\"Insufficient balance.\")\n",
    "        else:\n",
    "            print(\"Withdrawal amount must be greater than zero.\")\n",
    "\n",
    "    def display_info(self):\n",
    "        print(f\"Account Holder: {self.name}\")\n",
    "        print(f\"Account Number: {self.account_number}\")\n",
    "        print(f\"Balance: {self.balance}\")\n",
    "\n",
    "account = Bank(\"Ahmed\", 1000)\n",
    "account.display_info()\n",
    "account.deposit(500)\n",
    "account.withdraw(300)\n",
    "account.withdraw(1500)  "
   ]
  }
 ],
 "metadata": {
  "kernelspec": {
   "display_name": "Python 3 (ipykernel)",
   "language": "python",
   "name": "python3"
  },
  "language_info": {
   "codemirror_mode": {
    "name": "ipython",
    "version": 3
   },
   "file_extension": ".py",
   "mimetype": "text/x-python",
   "name": "python",
   "nbconvert_exporter": "python",
   "pygments_lexer": "ipython3",
   "version": "3.12.4"
  }
 },
 "nbformat": 4,
 "nbformat_minor": 5
}
